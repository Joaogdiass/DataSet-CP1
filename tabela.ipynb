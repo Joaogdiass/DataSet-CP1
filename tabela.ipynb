{
 "cells": [
  {
   "cell_type": "code",
   "execution_count": null,
   "metadata": {},
   "outputs": [],
   "source": [
    "#Joao Gabriel Dias de Mello\n",
    "#RM: 99092\n",
    "\n",
    "#Lucas Carlos Bandeira\n",
    "#RM: 98640"
   ]
  },
  {
   "cell_type": "code",
   "execution_count": 70,
   "metadata": {},
   "outputs": [],
   "source": [
    "import pandas as pd"
   ]
  },
  {
   "cell_type": "code",
   "execution_count": 71,
   "metadata": {},
   "outputs": [
    {
     "data": {
      "text/html": [
       "<div>\n",
       "<style scoped>\n",
       "    .dataframe tbody tr th:only-of-type {\n",
       "        vertical-align: middle;\n",
       "    }\n",
       "\n",
       "    .dataframe tbody tr th {\n",
       "        vertical-align: top;\n",
       "    }\n",
       "\n",
       "    .dataframe thead th {\n",
       "        text-align: right;\n",
       "    }\n",
       "</style>\n",
       "<table border=\"1\" class=\"dataframe\">\n",
       "  <thead>\n",
       "    <tr style=\"text-align: right;\">\n",
       "      <th></th>\n",
       "      <th>year_film</th>\n",
       "      <th>year_ceremony</th>\n",
       "      <th>ceremony</th>\n",
       "      <th>category</th>\n",
       "      <th>name</th>\n",
       "      <th>film</th>\n",
       "      <th>winner</th>\n",
       "    </tr>\n",
       "  </thead>\n",
       "  <tbody>\n",
       "    <tr>\n",
       "      <th>0</th>\n",
       "      <td>1927</td>\n",
       "      <td>1928</td>\n",
       "      <td>1</td>\n",
       "      <td>ACTOR</td>\n",
       "      <td>Richard Barthelmess</td>\n",
       "      <td>The Noose</td>\n",
       "      <td>False</td>\n",
       "    </tr>\n",
       "    <tr>\n",
       "      <th>1</th>\n",
       "      <td>1927</td>\n",
       "      <td>1928</td>\n",
       "      <td>1</td>\n",
       "      <td>ACTOR</td>\n",
       "      <td>Emil Jannings</td>\n",
       "      <td>The Last Command</td>\n",
       "      <td>True</td>\n",
       "    </tr>\n",
       "    <tr>\n",
       "      <th>2</th>\n",
       "      <td>1927</td>\n",
       "      <td>1928</td>\n",
       "      <td>1</td>\n",
       "      <td>ACTRESS</td>\n",
       "      <td>Louise Dresser</td>\n",
       "      <td>A Ship Comes In</td>\n",
       "      <td>False</td>\n",
       "    </tr>\n",
       "    <tr>\n",
       "      <th>3</th>\n",
       "      <td>1927</td>\n",
       "      <td>1928</td>\n",
       "      <td>1</td>\n",
       "      <td>ACTRESS</td>\n",
       "      <td>Janet Gaynor</td>\n",
       "      <td>7th Heaven</td>\n",
       "      <td>True</td>\n",
       "    </tr>\n",
       "    <tr>\n",
       "      <th>4</th>\n",
       "      <td>1927</td>\n",
       "      <td>1928</td>\n",
       "      <td>1</td>\n",
       "      <td>ACTRESS</td>\n",
       "      <td>Gloria Swanson</td>\n",
       "      <td>Sadie Thompson</td>\n",
       "      <td>False</td>\n",
       "    </tr>\n",
       "    <tr>\n",
       "      <th>...</th>\n",
       "      <td>...</td>\n",
       "      <td>...</td>\n",
       "      <td>...</td>\n",
       "      <td>...</td>\n",
       "      <td>...</td>\n",
       "      <td>...</td>\n",
       "      <td>...</td>\n",
       "    </tr>\n",
       "    <tr>\n",
       "      <th>10884</th>\n",
       "      <td>2023</td>\n",
       "      <td>2024</td>\n",
       "      <td>96</td>\n",
       "      <td>WRITING (Original Screenplay)</td>\n",
       "      <td>Written by Celine Song</td>\n",
       "      <td>Past Lives</td>\n",
       "      <td>False</td>\n",
       "    </tr>\n",
       "    <tr>\n",
       "      <th>10885</th>\n",
       "      <td>2023</td>\n",
       "      <td>2024</td>\n",
       "      <td>96</td>\n",
       "      <td>JEAN HERSHOLT HUMANITARIAN AWARD</td>\n",
       "      <td>NaN</td>\n",
       "      <td>NaN</td>\n",
       "      <td>True</td>\n",
       "    </tr>\n",
       "    <tr>\n",
       "      <th>10886</th>\n",
       "      <td>2023</td>\n",
       "      <td>2024</td>\n",
       "      <td>96</td>\n",
       "      <td>HONORARY AWARD</td>\n",
       "      <td>To Angela Bassett, who has inspired audiences ...</td>\n",
       "      <td>NaN</td>\n",
       "      <td>True</td>\n",
       "    </tr>\n",
       "    <tr>\n",
       "      <th>10887</th>\n",
       "      <td>2023</td>\n",
       "      <td>2024</td>\n",
       "      <td>96</td>\n",
       "      <td>HONORARY AWARD</td>\n",
       "      <td>To Mel Brooks, for his comedic brilliance, pro...</td>\n",
       "      <td>NaN</td>\n",
       "      <td>True</td>\n",
       "    </tr>\n",
       "    <tr>\n",
       "      <th>10888</th>\n",
       "      <td>2023</td>\n",
       "      <td>2024</td>\n",
       "      <td>96</td>\n",
       "      <td>HONORARY AWARD</td>\n",
       "      <td>To Carol Littleton, whose commitment to her cr...</td>\n",
       "      <td>NaN</td>\n",
       "      <td>True</td>\n",
       "    </tr>\n",
       "  </tbody>\n",
       "</table>\n",
       "<p>10889 rows × 7 columns</p>\n",
       "</div>"
      ],
      "text/plain": [
       "       year_film  year_ceremony  ceremony                          category  \\\n",
       "0           1927           1928         1                             ACTOR   \n",
       "1           1927           1928         1                             ACTOR   \n",
       "2           1927           1928         1                           ACTRESS   \n",
       "3           1927           1928         1                           ACTRESS   \n",
       "4           1927           1928         1                           ACTRESS   \n",
       "...          ...            ...       ...                               ...   \n",
       "10884       2023           2024        96     WRITING (Original Screenplay)   \n",
       "10885       2023           2024        96  JEAN HERSHOLT HUMANITARIAN AWARD   \n",
       "10886       2023           2024        96                    HONORARY AWARD   \n",
       "10887       2023           2024        96                    HONORARY AWARD   \n",
       "10888       2023           2024        96                    HONORARY AWARD   \n",
       "\n",
       "                                                    name              film  \\\n",
       "0                                    Richard Barthelmess         The Noose   \n",
       "1                                          Emil Jannings  The Last Command   \n",
       "2                                         Louise Dresser   A Ship Comes In   \n",
       "3                                           Janet Gaynor        7th Heaven   \n",
       "4                                         Gloria Swanson    Sadie Thompson   \n",
       "...                                                  ...               ...   \n",
       "10884                             Written by Celine Song        Past Lives   \n",
       "10885                                                NaN               NaN   \n",
       "10886  To Angela Bassett, who has inspired audiences ...               NaN   \n",
       "10887  To Mel Brooks, for his comedic brilliance, pro...               NaN   \n",
       "10888  To Carol Littleton, whose commitment to her cr...               NaN   \n",
       "\n",
       "       winner  \n",
       "0       False  \n",
       "1        True  \n",
       "2       False  \n",
       "3        True  \n",
       "4       False  \n",
       "...       ...  \n",
       "10884   False  \n",
       "10885    True  \n",
       "10886    True  \n",
       "10887    True  \n",
       "10888    True  \n",
       "\n",
       "[10889 rows x 7 columns]"
      ]
     },
     "execution_count": 71,
     "metadata": {},
     "output_type": "execute_result"
    }
   ],
   "source": [
    "tabela = pd.read_csv(\"the_oscar_award.csv\")\n",
    "tabela"
   ]
  },
  {
   "cell_type": "code",
   "execution_count": 72,
   "metadata": {},
   "outputs": [
    {
     "name": "stdout",
     "output_type": "stream",
     "text": [
      "Checkpoint 1 - Análise dos dados do Kaggle usando Pandas\n",
      "\n",
      "1. Quem foi o primeiro ator a ganhar um Oscar?\n",
      "\n",
      "O primeiro ator a ganhar um Oscar foi: Emil Jannings\n"
     ]
    }
   ],
   "source": [
    "\n",
    "\n",
    "\n",
    "#----------------------------------Pergunta 1----------------------------------\n",
    "\n",
    "\n",
    "print(\"Checkpoint 1 - Análise dos dados do Kaggle usando Pandas\\n\"\n",
    "      \"\\n\"\n",
    "      \"1. Quem foi o primeiro ator a ganhar um Oscar?\\n\")\n",
    "\n",
    "#Buscando atores na lista de vencedores\n",
    "atores_vencedores = tabela[(tabela['category'] == 'ACTOR') & (tabela['winner'] == True)]\n",
    "\n",
    "#Buscando o indice(ano) que a pergunta pediu, ou seja, o primeiro ano\n",
    "atores_vencedores_ordenados_por_ano = atores_vencedores.sort_values(by='year_ceremony')\n",
    "primeiro_ator_a_ganhar_oscar = atores_vencedores_ordenados_por_ano.iloc[0]['name']\n",
    "\n",
    "print(f\"O primeiro ator a ganhar um Oscar foi: {primeiro_ator_a_ganhar_oscar}\")\n",
    "\n",
    "\n"
   ]
  },
  {
   "cell_type": "code",
   "execution_count": 73,
   "metadata": {},
   "outputs": [
    {
     "name": "stdout",
     "output_type": "stream",
     "text": [
      "\n",
      "2. Quem é o ator com o maior número de indicações ao Oscar na história?\n",
      "\n",
      "O ator com o maior número de indicações ao Oscar na história é: Spencer Tracy, com um total de 9 indicações.\n"
     ]
    }
   ],
   "source": [
    "#----------------------------------Pergunta 2----------------------------------\n",
    "\n",
    "print(\"\\n2. Quem é o ator com o maior número de indicações ao Oscar na história?\\n\")\n",
    "#Buscando atores\n",
    "atores = tabela[tabela['category'] == 'ACTOR']\n",
    "\n",
    "#Contando quantas indicacoes cada um tem\n",
    "contagem_indicacoes_por_ator = atores['name'].value_counts()\n",
    "\n",
    "#Encontrando o ator com maior indicacoes\n",
    "ator_com_mais_indicacoes = contagem_indicacoes_por_ator.idxmax()\n",
    "quantidade_de_indicacoes = contagem_indicacoes_por_ator.max()\n",
    "\n",
    "print(f\"O ator com o maior número de indicações ao Oscar na história é: {ator_com_mais_indicacoes}, com um total de {quantidade_de_indicacoes} indicações.\")\n",
    "\n"
   ]
  },
  {
   "cell_type": "code",
   "execution_count": 74,
   "metadata": {},
   "outputs": [
    {
     "name": "stdout",
     "output_type": "stream",
     "text": [
      "\n",
      "3. Qual filme com o maior número de indicações ao Oscar, mas sem ganhar em nenhuma categoria?\n",
      "\n",
      "O filme com o maior número de indicações ao Oscar, mas sem ganhar em nenhuma categoria, é 'A Star Is Born', com um total de 22 indicações.\n"
     ]
    }
   ],
   "source": [
    "#----------------------------------Pergunta 3----------------------------------\n",
    "\n",
    "\n",
    "print(\"\\n3. Qual filme com o maior número de indicações ao Oscar, mas sem ganhar em nenhuma categoria?\\n\")\n",
    "\n",
    "#Definindo uma variavel para todos os que estao na tabela que nao sejam 'winner'\n",
    "filmes_sem_vitoria = tabela[tabela['winner'] == False]\n",
    "\n",
    "#Contando quanto cada filme tem\n",
    "contagem_indicacoes_por_filme = filmes_sem_vitoria.groupby('film').size()\n",
    "\n",
    "#Filtrando para achar o filme com mais indicacoes em todas as categorias\n",
    "filme_com_mais_indicacoes = contagem_indicacoes_por_filme.idxmax()\n",
    "quantidade_de_indicacoes = contagem_indicacoes_por_filme.max()\n",
    "\n",
    "print(f\"O filme com o maior número de indicações ao Oscar, mas sem ganhar em nenhuma categoria, é '{filme_com_mais_indicacoes}', com um total de {quantidade_de_indicacoes} indicações.\")\n"
   ]
  },
  {
   "cell_type": "code",
   "execution_count": 75,
   "metadata": {},
   "outputs": [
    {
     "name": "stdout",
     "output_type": "stream",
     "text": [
      "\n",
      "4.Quem foram os ganhadores dos Oscars de melhor filme entre 1985 e 1995?\n",
      "\n",
      "Filmes ganhadores do Oscar na categoria de Direção nos anos de 1985 a 1995:\n",
      "Ano: 1985 - Filme: Amadeus\n",
      "Ano: 1986 - Filme: Out of Africa\n",
      "Ano: 1987 - Filme: Platoon\n",
      "Ano: 1988 - Filme: The Last Emperor\n",
      "Ano: 1989 - Filme: Rain Man\n",
      "Ano: 1990 - Filme: Born on the Fourth of July\n",
      "Ano: 1991 - Filme: Dances With Wolves\n",
      "Ano: 1992 - Filme: The Silence of the Lambs\n",
      "Ano: 1993 - Filme: Unforgiven\n",
      "Ano: 1994 - Filme: Schindler's List\n",
      "Ano: 1995 - Filme: Forrest Gump\n"
     ]
    }
   ],
   "source": [
    "#----------------------------------Pergunta 4----------------------------------\n",
    "\n",
    "\n",
    "print(\"\\n4.Quem foram os ganhadores dos Oscars de melhor filme entre 1985 e 1995?\\n\")\n",
    "\n",
    "#Filtrando os anos pedidos\n",
    "filmes_ganhadores_direcao_1985_1995 = tabela[(tabela['year_ceremony'] >= 1985) & (tabela['year_ceremony'] <= 1995) & (tabela['category'] == 'DIRECTING') & (tabela['winner'] == True)]\n",
    "\n",
    "# Exibir os filmes ganhadores do Oscar na categoria de direção nos anos de 1985 a 1995\n",
    "print(\"Filmes ganhadores do Oscar na categoria de Direção nos anos de 1985 a 1995:\")\n",
    "for index, row in filmes_ganhadores_direcao_1985_1995.iterrows():\n",
    "    print(f\"Ano: {row['year_ceremony']} - Filme: {row['film']}\")\n",
    "    "
   ]
  },
  {
   "cell_type": "code",
   "execution_count": 76,
   "metadata": {},
   "outputs": [
    {
     "name": "stdout",
     "output_type": "stream",
     "text": [
      "\n",
      "5.Que filme ganhou o Oscar em 2024?\n",
      "\n",
      "Filme ganhador do Oscar na categoria de Direção em 2024:\n",
      "Oppenheimer\n"
     ]
    }
   ],
   "source": [
    "#----------------------------------Pergunta 5----------------------------------\n",
    "\n",
    "    \n",
    "print(\"\\n5.Que filme ganhou o Oscar em 2024?\\n\")\n",
    "\n",
    "#Definindo a variavel para o apenas o ganhador de 2024\n",
    "filme_ganhador_direcao_2024 = tabela[(tabela['year_ceremony'] == 2024) & (tabela['category'] == 'DIRECTING') & (tabela['winner'] == True)]['film']\n",
    "\n",
    "print(\"Filme ganhador do Oscar na categoria de Direção em 2024:\")\n",
    "print(filme_ganhador_direcao_2024.to_string(index=False))\n"
   ]
  },
  {
   "cell_type": "code",
   "execution_count": 77,
   "metadata": {},
   "outputs": [
    {
     "name": "stdout",
     "output_type": "stream",
     "text": [
      "6.Quantos Oscars ganhou Meryl Streep ao longo de sua carreira?\n",
      "\n",
      "Meryl Streep ganhou um total de 3 Oscars ao longo de sua carreira.\n"
     ]
    }
   ],
   "source": [
    "#----------------------------------Pergunta 6----------------------------------\n",
    "\n",
    "\n",
    "print(\"6.Quantos Oscars ganhou Meryl Streep ao longo de sua carreira?\\n\")\n",
    "\n",
    "\n",
    "#Filtrando apenas as indicações de Meryl Streep que resultaram em vitoria\n",
    "vitorias_meryl_streep = tabela[(tabela['name'] == 'Meryl Streep') & (tabela['winner'] == True)]\n",
    "\n",
    "#Contando o numero de vitorias\n",
    "numero_vitorias_meryl_streep = len(vitorias_meryl_streep)\n",
    "\n",
    "print(f\"Meryl Streep ganhou um total de {numero_vitorias_meryl_streep} Oscars ao longo de sua carreira.\")\n"
   ]
  },
  {
   "cell_type": "code",
   "execution_count": 78,
   "metadata": {},
   "outputs": [
    {
     "name": "stdout",
     "output_type": "stream",
     "text": [
      "7.Quantos filmes foram indicados ao Oscar de Melhor Filme em 2020?\n",
      "\n",
      "Filmes indicados ao Oscar de Melhor Diretor em 2020:\n",
      "The Irishman\n",
      "Joker\n",
      "1917\n",
      "Once upon a Time...in Hollywood\n",
      "Parasite\n"
     ]
    }
   ],
   "source": [
    "#----------------------------------Pergunta 7----------------------------------\n",
    "\n",
    "print(\"7.Quantos filmes foram indicados ao Oscar de Melhor Filme em 2020?\\n\")\n",
    "\n",
    "#Filtrando apenas os filmes indicados ao Oscar de Melhor Diretor em 2020\n",
    "filmes_indicados_2020 = tabela[(tabela['year_ceremony'] == 2020) & (tabela['category'] == 'DIRECTING')]\n",
    "\n",
    "print(\"Filmes indicados ao Oscar de Melhor Diretor em 2020:\")\n",
    "for filme in filmes_indicados_2020['film'].unique():\n",
    "    print(filme)"
   ]
  },
  {
   "cell_type": "code",
   "execution_count": 79,
   "metadata": {},
   "outputs": [
    {
     "name": "stdout",
     "output_type": "stream",
     "text": [
      "8.Quantos Oscars ganhou Leonardo DiCaprio ao longo de sua carreira?\n",
      "\n",
      "Leonardo DiCaprio ganhou um total de 1 Oscars ao longo de sua carreira.\n"
     ]
    }
   ],
   "source": [
    "#----------------------------------Pergunta 8----------------------------------\n",
    "\n",
    "print(\"8.Quantos Oscars ganhou Leonardo DiCaprio ao longo de sua carreira?\\n\")\n",
    "\n",
    "#Filtrando as indicações e vitorias de Leonardo DiCaprio\n",
    "indicacoes_e_vitorias_leonardo_dicaprio = tabela[(tabela['name'] == 'Leonardo DiCaprio')]\n",
    "\n",
    "#Contando as vitorias dele\n",
    "numero_vitorias_leonardo_dicaprio = indicacoes_e_vitorias_leonardo_dicaprio[indicacoes_e_vitorias_leonardo_dicaprio['winner'] == True].shape[0]\n",
    "\n",
    "print(f\"Leonardo DiCaprio ganhou um total de {numero_vitorias_leonardo_dicaprio} Oscars ao longo de sua carreira.\")\n"
   ]
  },
  {
   "cell_type": "code",
   "execution_count": 80,
   "metadata": {},
   "outputs": [
    {
     "name": "stdout",
     "output_type": "stream",
     "text": [
      "9.Qual foi o primeiro filme a ganhar o Oscar de Melhor Filme Estrangeiro?\n",
      "\n",
      "O primeiro filme a ganhar o Oscar de Melhor Filme Estrangeiro foi 'Parasite'.\n"
     ]
    }
   ],
   "source": [
    "#----------------------------------Pergunta 9----------------------------------\n",
    "\n",
    "print(\"9.Qual foi o primeiro filme a ganhar o Oscar de Melhor Filme Estrangeiro?\\n\")\n",
    "\n",
    "\n",
    "#Filtrando apenas os vencedores do Oscar de Melhor Filme Estrangeiro\n",
    "vencedores_filme_estrangeiro = tabela[(tabela['category'] == 'INTERNATIONAL FEATURE FILM') & (tabela['winner'] == True)]\n",
    "\n",
    "#Procurando o filme no primeiro indice\n",
    "primeiro_filme_estrangeiro = vencedores_filme_estrangeiro['film'].iloc[0]\n",
    "\n",
    "print(f\"O primeiro filme a ganhar o Oscar de Melhor Filme Estrangeiro foi '{primeiro_filme_estrangeiro}'.\")\n"
   ]
  },
  {
   "cell_type": "code",
   "execution_count": 81,
   "metadata": {},
   "outputs": [
    {
     "name": "stdout",
     "output_type": "stream",
     "text": [
      "10.Qual foi o primeiro filme a ganhar o Oscar de Melhor Animação após a introdução da categoria em 2001?\n",
      "\n",
      "O primeiro filme a ganhar o Oscar de Melhor Animação após a introdução da categoria em 2001 foi 'Shrek'.\n"
     ]
    }
   ],
   "source": [
    "#----------------------------------Pergunta 10----------------------------------\n",
    "\n",
    "print(\"10.Qual foi o primeiro filme a ganhar o Oscar de Melhor Animação após a introdução da categoria em 2001?\\n\")\n",
    "\n",
    "#Filtrando apenas os vencedores do Oscar de Melhor Animação apos 2001\n",
    "vencedores_animacao_apos_2001 = tabela[(tabela['category'] == 'ANIMATED FEATURE FILM') & (tabela['winner'] == True) & (tabela['year_ceremony'] > 2001)]\n",
    "\n",
    "#Encontrando o primeiro indice\n",
    "primeiro_filme_animacao_apos_2001 = vencedores_animacao_apos_2001['film'].iloc[0]\n",
    "\n",
    "print(f\"O primeiro filme a ganhar o Oscar de Melhor Animação após a introdução da categoria em 2001 foi '{primeiro_filme_animacao_apos_2001}'.\")\n"
   ]
  }
 ],
 "metadata": {
  "kernelspec": {
   "display_name": "Python 3",
   "language": "python",
   "name": "python3"
  },
  "language_info": {
   "codemirror_mode": {
    "name": "ipython",
    "version": 3
   },
   "file_extension": ".py",
   "mimetype": "text/x-python",
   "name": "python",
   "nbconvert_exporter": "python",
   "pygments_lexer": "ipython3",
   "version": "3.12.0"
  }
 },
 "nbformat": 4,
 "nbformat_minor": 2
}
